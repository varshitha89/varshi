{
  "nbformat": 4,
  "nbformat_minor": 0,
  "metadata": {
    "colab": {
      "name": "assignment 12.ipynb",
      "provenance": [],
      "collapsed_sections": []
    },
    "kernelspec": {
      "name": "python3",
      "display_name": "Python 3"
    }
  },
  "cells": [
    {
      "cell_type": "code",
      "metadata": {
        "id": "vLYoXlbBf4FE",
        "colab_type": "code",
        "colab": {
          "base_uri": "https://localhost:8080/",
          "height": 34
        },
        "outputId": "e0ca56cf-131d-4f7f-e6dd-b1051c2976ed"
      },
      "source": [
        "#to access all the elements\n",
        "a={\"one\":'varshi',\"two\":'vaishu',\"three\":'mom'}\n",
        "print(a)"
      ],
      "execution_count": 2,
      "outputs": [
        {
          "output_type": "stream",
          "text": [
            "{'one': 'varshi', 'two': 'vaishu', 'three': 'mom'}\n"
          ],
          "name": "stdout"
        }
      ]
    },
    {
      "cell_type": "code",
      "metadata": {
        "id": "R-EL3P1Yf-lo",
        "colab_type": "code",
        "colab": {
          "base_uri": "https://localhost:8080/",
          "height": 34
        },
        "outputId": "f566f579-dc81-4548-e016-9679e00564e2"
      },
      "source": [
        "#to concate two dictionaries .\n",
        "a={\"one\":'varshi',\"two\":'vaishu',\"three\":'mom'}\n",
        "a[\"four\"]=\"dad\"\n",
        "print(a)"
      ],
      "execution_count": 4,
      "outputs": [
        {
          "output_type": "stream",
          "text": [
            "{'one': 'varshi', 'two': 'vaishu', 'three': 'mom', 'four': 'dad'}\n"
          ],
          "name": "stdout"
        }
      ]
    },
    {
      "cell_type": "code",
      "metadata": {
        "id": "EnOKzPBhhkhP",
        "colab_type": "code",
        "colab": {
          "base_uri": "https://localhost:8080/",
          "height": 34
        },
        "outputId": "b0429b66-5bfe-4c46-b2ef-d063cf4f5ee6"
      },
      "source": [
        "#to fund the length\n",
        "a={\"one\":'varshi',\"two\":'vaishu',\"three\":'momdad'}\n",
        "print(len(a))"
      ],
      "execution_count": 5,
      "outputs": [
        {
          "output_type": "stream",
          "text": [
            "3\n"
          ],
          "name": "stdout"
        }
      ]
    },
    {
      "cell_type": "code",
      "metadata": {
        "id": "UVHwrmekh2Ad",
        "colab_type": "code",
        "colab": {
          "base_uri": "https://localhost:8080/",
          "height": 34
        },
        "outputId": "c1e4bb16-b719-4cf6-ca8a-fa098f220ae4"
      },
      "source": [
        "# to remove the items\n",
        "a={\"one\":'vaishu',\"two\":'varshi',\"three\":'momdad'}\n",
        "a.pop(\"two\")\n",
        "print(a)"
      ],
      "execution_count": 6,
      "outputs": [
        {
          "output_type": "stream",
          "text": [
            "{'one': 'vaishu', 'three': 'momdad'}\n"
          ],
          "name": "stdout"
        }
      ]
    },
    {
      "cell_type": "code",
      "metadata": {
        "id": "Awj-87YziE0o",
        "colab_type": "code",
        "colab": {
          "base_uri": "https://localhost:8080/",
          "height": 34
        },
        "outputId": "eb382ed8-1bae-43f9-a25d-a3e42e757641"
      },
      "source": [
        "# add items\n",
        "a={\"one\":'varshi',\"two\":'vaishu',\"three\":'mom'}\n",
        "a[\"four\"]=\"dad\"\n",
        "print(a)"
      ],
      "execution_count": 8,
      "outputs": [
        {
          "output_type": "stream",
          "text": [
            "{'one': 'varshi', 'two': 'vaishu', 'three': 'mom', 'four': 'dad'}\n"
          ],
          "name": "stdout"
        }
      ]
    },
    {
      "cell_type": "code",
      "metadata": {
        "id": "VIccm2pXiNvC",
        "colab_type": "code",
        "colab": {
          "base_uri": "https://localhost:8080/",
          "height": 34
        },
        "outputId": "7a5f694c-fc33-46e6-8bb4-6f52290facc7"
      },
      "source": [
        "# sum of all the elements\n",
        "dict = {'a': 100, 'b':200, 'c':300} \n",
        "def returnSum(dict): \n",
        "     sum = 0\n",
        "     for i in dict.values(): \n",
        "         sum = sum + i \n",
        "     return sum\n",
        "print(\"Sum :\", returnSum(dict)) \n"
      ],
      "execution_count": 9,
      "outputs": [
        {
          "output_type": "stream",
          "text": [
            "Sum : 600\n"
          ],
          "name": "stdout"
        }
      ]
    },
    {
      "cell_type": "code",
      "metadata": {
        "id": "wP1jGI9FikWe",
        "colab_type": "code",
        "colab": {}
      },
      "source": [
        ""
      ],
      "execution_count": null,
      "outputs": []
    }
  ]
}