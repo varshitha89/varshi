{
  "nbformat": 4,
  "nbformat_minor": 0,
  "metadata": {
    "colab": {
      "name": "assignment .ipynb",
      "provenance": [],
      "collapsed_sections": []
    },
    "kernelspec": {
      "name": "python3",
      "display_name": "Python 3"
    }
  },
  "cells": [
    {
      "cell_type": "code",
      "metadata": {
        "id": "qrfcRkmTrR-H",
        "colab_type": "code",
        "colab": {
          "base_uri": "https://localhost:8080/",
          "height": 34
        },
        "outputId": "8b96d9c6-5933-4db2-8f88-b02f7d77255b"
      },
      "source": [
        "name='varshi'\n",
        "print(len(name))"
      ],
      "execution_count": 1,
      "outputs": [
        {
          "output_type": "stream",
          "text": [
            "6\n"
          ],
          "name": "stdout"
        }
      ]
    },
    {
      "cell_type": "code",
      "metadata": {
        "id": "8_AvkUgNvNqF",
        "colab_type": "code",
        "colab": {
          "base_uri": "https://localhost:8080/",
          "height": 34
        },
        "outputId": "73c283be-f093-4e52-d1f1-07824f2c6af7"
      },
      "source": [
        "def remove(string, i): \n",
        "  a = string[ : i]  \n",
        "  b = string[i + 1: ] \n",
        "  return a + b \n",
        "if __name__ == '__main__':  \n",
        "  string = \"varshi\"  \n",
        "  i =6  \n",
        "  print(remove(string, i))"
      ],
      "execution_count": 26,
      "outputs": [
        {
          "output_type": "stream",
          "text": [
            "varshi\n"
          ],
          "name": "stdout"
        }
      ]
    },
    {
      "cell_type": "code",
      "metadata": {
        "id": "JiP97aMOoLX8",
        "colab_type": "code",
        "colab": {
          "base_uri": "https://localhost:8080/",
          "height": 68
        },
        "outputId": "c0c6dd60-f9c7-46cf-9d0e-ee6f6a1f4bb5"
      },
      "source": [
        "string=input(\"enter string:\")\n",
        "sub_str=input(\"enter word:\")\n",
        "if(string.find(sub_str)==1):\n",
        "  print(\"subsring not found in string\")\n",
        "else:\n",
        "    print(\"substring found in string\")"
      ],
      "execution_count": 11,
      "outputs": [
        {
          "output_type": "stream",
          "text": [
            "enter string:varshi\n",
            "enter word:gowda\n",
            "substring found in string\n"
          ],
          "name": "stdout"
        }
      ]
    },
    {
      "cell_type": "code",
      "metadata": {
        "id": "zKtnmAJ0owZe",
        "colab_type": "code",
        "colab": {
          "base_uri": "https://localhost:8080/",
          "height": 51
        },
        "outputId": "c1ddcb5b-a50e-4c1a-dd13-861bea3121cd"
      },
      "source": [
        "name=\"varshi\"\n",
        "print(name==\"varshi\")\n",
        "print(name==\"gowda\")"
      ],
      "execution_count": 12,
      "outputs": [
        {
          "output_type": "stream",
          "text": [
            "True\n",
            "False\n"
          ],
          "name": "stdout"
        }
      ]
    },
    {
      "cell_type": "code",
      "metadata": {
        "id": "O7j-vqVkph5M",
        "colab_type": "code",
        "colab": {
          "base_uri": "https://localhost:8080/",
          "height": 51
        },
        "outputId": "24220633-87ed-464b-c95c-4b4074ec61ed"
      },
      "source": [
        "str=input(\"enter string:\")\n",
        "total=0\n",
        "for i in str:\n",
        "  total=total+1\n",
        "print(\"number of characters in the string is\",total)"
      ],
      "execution_count": 15,
      "outputs": [
        {
          "output_type": "stream",
          "text": [
            "enter string:vaishu\n",
            "number of characters in the string is 6\n"
          ],
          "name": "stdout"
        }
      ]
    },
    {
      "cell_type": "code",
      "metadata": {
        "id": "eMXxh-9fp3_Q",
        "colab_type": "code",
        "colab": {
          "base_uri": "https://localhost:8080/",
          "height": 221
        },
        "outputId": "1a0a77e4-f9dc-429c-bf66-d0f3227addd6"
      },
      "source": [
        "s=\"refrigerator\"\n",
        "count=0\n",
        "for i in s:\n",
        "  count=count+1\n",
        "  print(count)"
      ],
      "execution_count": 18,
      "outputs": [
        {
          "output_type": "stream",
          "text": [
            "1\n",
            "2\n",
            "3\n",
            "4\n",
            "5\n",
            "6\n",
            "7\n",
            "8\n",
            "9\n",
            "10\n",
            "11\n",
            "12\n"
          ],
          "name": "stdout"
        }
      ]
    },
    {
      "cell_type": "code",
      "metadata": {
        "id": "RhmPphP3qEtj",
        "colab_type": "code",
        "colab": {
          "base_uri": "https://localhost:8080/",
          "height": 34
        },
        "outputId": "198e46e5-2c60-4003-d00a-88c9859c8aed"
      },
      "source": [
        "str=\"hello world\"\n",
        "print(str.count('o'))"
      ],
      "execution_count": 19,
      "outputs": [
        {
          "output_type": "stream",
          "text": [
            "2\n"
          ],
          "name": "stdout"
        }
      ]
    },
    {
      "cell_type": "code",
      "metadata": {
        "id": "zlYDUC8CqQ2Q",
        "colab_type": "code",
        "colab": {
          "base_uri": "https://localhost:8080/",
          "height": 34
        },
        "outputId": "9a8ed221-585c-4288-95dc-685c65397954"
      },
      "source": [
        "string=\"is varshi is good girl?\"\n",
        "substring=\"no\"\n",
        "count=string.count(substring)\n",
        "print(\"count is:\",count)"
      ],
      "execution_count": 20,
      "outputs": [
        {
          "output_type": "stream",
          "text": [
            "count is: 0\n"
          ],
          "name": "stdout"
        }
      ]
    },
    {
      "cell_type": "code",
      "metadata": {
        "id": "d-JXbaSIqmha",
        "colab_type": "code",
        "colab": {
          "base_uri": "https://localhost:8080/",
          "height": 68
        },
        "outputId": "1b10955a-f8bd-4726-e1d6-9d5ea5cff582"
      },
      "source": [
        "str_input=input(\"enter your name:\")\n",
        "print(\"name with lower()=\",str_input.lower())\n",
        "print(\"name with upper ()=\",str_input.upper())"
      ],
      "execution_count": 21,
      "outputs": [
        {
          "output_type": "stream",
          "text": [
            "enter your name:mom\n",
            "name with lower()= mom\n",
            "name with upper ()= MOM\n"
          ],
          "name": "stdout"
        }
      ]
    },
    {
      "cell_type": "code",
      "metadata": {
        "id": "pkYMflfhrCWW",
        "colab_type": "code",
        "colab": {
          "base_uri": "https://localhost:8080/",
          "height": 119
        },
        "outputId": "c80aab76-2659-406f-9630-157745f222cf"
      },
      "source": [
        "i=0\n",
        "s='varshi'\n",
        "for i in s:\n",
        "  print(i)"
      ],
      "execution_count": 22,
      "outputs": [
        {
          "output_type": "stream",
          "text": [
            "v\n",
            "a\n",
            "r\n",
            "s\n",
            "h\n",
            "i\n"
          ],
          "name": "stdout"
        }
      ]
    },
    {
      "cell_type": "code",
      "metadata": {
        "id": "8YQ55nrettbp",
        "colab_type": "code",
        "colab": {}
      },
      "source": [
        ""
      ],
      "execution_count": null,
      "outputs": []
    }
  ]
}