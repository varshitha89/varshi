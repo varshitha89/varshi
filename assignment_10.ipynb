{
  "nbformat": 4,
  "nbformat_minor": 0,
  "metadata": {
    "colab": {
      "name": "assignment 10.ipynb",
      "provenance": [],
      "collapsed_sections": []
    },
    "kernelspec": {
      "name": "python3",
      "display_name": "Python 3"
    }
  },
  "cells": [
    {
      "cell_type": "code",
      "metadata": {
        "id": "wCVOAn_9pSdv",
        "colab_type": "code",
        "colab": {
          "base_uri": "https://localhost:8080/",
          "height": 34
        },
        "outputId": "2756e926-969a-4033-e3d8-6edbca9a5d5f"
      },
      "source": [
        "# to open file in python using try,expect\n",
        "try:\n",
        "\tf=open(\"sample.txt\")\n",
        "except:\n",
        "\tprint(\"file can not be opened\")"
      ],
      "execution_count": 1,
      "outputs": [
        {
          "output_type": "stream",
          "text": [
            "file can not be opened\n"
          ],
          "name": "stdout"
        }
      ]
    },
    {
      "cell_type": "code",
      "metadata": {
        "id": "VBo1iNeVp2fG",
        "colab_type": "code",
        "colab": {}
      },
      "source": [
        "# to read the content from file using with statment\n",
        "with open(\"samplef.txt\")as f:\n",
        "\tdata=f.read()\n",
        "\tprint(data)\n",
        "\tf=open(\"sample.txt\")\n",
        "\tf.write(\"hello dhanya\")\n",
        "\tprint(f.read)"
      ],
      "execution_count": null,
      "outputs": []
    },
    {
      "cell_type": "code",
      "metadata": {
        "id": "wHPjNYTJqJif",
        "colab_type": "code",
        "colab": {}
      },
      "source": [
        "# to split the data in file\n",
        "with open (\"sample.txt\")as f:\n",
        "\tdata=f.readlines\n",
        "\tfor line in data:\n",
        "\t\tsentence=line.split()\n",
        "\t\tprint(sentence)"
      ],
      "execution_count": null,
      "outputs": []
    },
    {
      "cell_type": "code",
      "metadata": {
        "id": "MG8wRnR3rYFB",
        "colab_type": "code",
        "colab": {
          "base_uri": "https://localhost:8080/",
          "height": 34
        },
        "outputId": "502b9075-c08b-4b4c-e835-bb85d19fec1e"
      },
      "source": [
        "# to creat a list and access the elementa from the list\n",
        "friends=[\"varshi\",\"vaishu\",\"mom\",\"dad\",\"sister\"]\n",
        "print(friends[2])"
      ],
      "execution_count": 6,
      "outputs": [
        {
          "output_type": "stream",
          "text": [
            "mom\n"
          ],
          "name": "stdout"
        }
      ]
    },
    {
      "cell_type": "code",
      "metadata": {
        "id": "gLL9kKRHsJsZ",
        "colab_type": "code",
        "colab": {}
      },
      "source": [
        "# to remove the file\n",
        "import os\n",
        "os.remove(\"exampleprogram.txt\")\n",
        "os.rmdir(\"exampleprigram1.txt\")"
      ],
      "execution_count": null,
      "outputs": []
    },
    {
      "cell_type": "code",
      "metadata": {
        "id": "KZsC9nNDs6um",
        "colab_type": "code",
        "colab": {}
      },
      "source": [
        ""
      ],
      "execution_count": null,
      "outputs": []
    }
  ]
}