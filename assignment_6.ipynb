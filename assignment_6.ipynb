{
  "nbformat": 4,
  "nbformat_minor": 0,
  "metadata": {
    "colab": {
      "name": "assignment 6.ipynb",
      "provenance": [],
      "collapsed_sections": []
    },
    "kernelspec": {
      "name": "python3",
      "display_name": "Python 3"
    }
  },
  "cells": [
    {
      "cell_type": "code",
      "metadata": {
        "id": "qZJoBTZa0wg5",
        "colab_type": "code",
        "colab": {
          "base_uri": "https://localhost:8080/",
          "height": 85
        },
        "outputId": "1b44da0c-d492-4a62-dcf8-3b8499f70c1e"
      },
      "source": [
        "# ot convert binary number to decimal\n",
        "num=list(input(\"input a binary number:\"))\n",
        "value =0\n",
        "\n",
        "for i in range(len(num)):\n",
        "  digit=num.pop()\n",
        "  if digit=='1':\n",
        "    value=value+pow(2,i)\n",
        "    print(\"the decimal value of the number is\",value)   "
      ],
      "execution_count": 3,
      "outputs": [
        {
          "output_type": "stream",
          "text": [
            "input a binary number:10011\n",
            "the decimal value of the number is 1\n",
            "the decimal value of the number is 3\n",
            "the decimal value of the number is 19\n"
          ],
          "name": "stdout"
        }
      ]
    },
    {
      "cell_type": "code",
      "metadata": {
        "id": "QLYELNei2p8W",
        "colab_type": "code",
        "colab": {
          "base_uri": "https://localhost:8080/",
          "height": 51
        },
        "outputId": "0cf78b52-4e33-4c4b-d306-5f7470dc6580"
      },
      "source": [
        "#fibonacci series\n",
        "n=int(input(\"enter value of n\"))\n",
        "a=0\n",
        "b=1\n",
        "sum=1\n",
        "count=1\n",
        "print(\"fibonacci series:\",end=\"\")\n",
        "while(count<=n):\n",
        "  print(sum,end=\"\")\n",
        "  count +=1\n",
        "  a=b\n",
        "  b=sum\n",
        "  sum=a+b\n"
      ],
      "execution_count": 4,
      "outputs": [
        {
          "output_type": "stream",
          "text": [
            "enter value of n7\n",
            "fibonacci series:123581321"
          ],
          "name": "stdout"
        }
      ]
    },
    {
      "cell_type": "code",
      "metadata": {
        "id": "gK1d-ySv30tY",
        "colab_type": "code",
        "colab": {
          "base_uri": "https://localhost:8080/",
          "height": 204
        },
        "outputId": "8d3bd9e8-0e64-46ab-b33f-32d64632291f"
      },
      "source": [
        "#multiplication table\n",
        "num=int(input(\"enter V\"))\n",
        "for i in range(1,11):\n",
        "  print(num,'x',i,'=',num*i)"
      ],
      "execution_count": 5,
      "outputs": [
        {
          "output_type": "stream",
          "text": [
            "enter V6\n",
            "6 x 1 = 6\n",
            "6 x 2 = 12\n",
            "6 x 3 = 18\n",
            "6 x 4 = 24\n",
            "6 x 5 = 30\n",
            "6 x 6 = 36\n",
            "6 x 7 = 42\n",
            "6 x 8 = 48\n",
            "6 x 9 = 54\n",
            "6 x 10 = 60\n"
          ],
          "name": "stdout"
        }
      ]
    },
    {
      "cell_type": "code",
      "metadata": {
        "id": "dv--qUdv4JyE",
        "colab_type": "code",
        "colab": {
          "base_uri": "https://localhost:8080/",
          "height": 85
        },
        "outputId": "c36dd315-a468-4044-8f6c-dd848cf47d2c"
      },
      "source": [
        "#gcd of two numbers\n",
        "num1=int(input(\"enter 1st number:\"))\n",
        "num2=int(input(\"enter 2nd number:\"))\n",
        "i=2\n",
        "while(i<=num1 and num2):\n",
        "  if(num1%i==0 and num2%i==0):\n",
        "    gcd=i\n",
        "    i=i+2\n",
        "    print(\"GCD is\",gcd)"
      ],
      "execution_count": null,
      "outputs": [
        {
          "output_type": "stream",
          "text": [
            "enter 1st number:8\n",
            "enter 2nd number:4\n",
            "GCD is 2\n",
            "GCD is 4\n"
          ],
          "name": "stdout"
        }
      ]
    },
    {
      "cell_type": "code",
      "metadata": {
        "id": "Qt40kXTX8pvF",
        "colab_type": "code",
        "colab": {}
      },
      "source": [
        ""
      ],
      "execution_count": null,
      "outputs": []
    }
  ]
}