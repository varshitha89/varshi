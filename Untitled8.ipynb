{
  "nbformat": 4,
  "nbformat_minor": 0,
  "metadata": {
    "colab": {
      "name": "Untitled8.ipynb",
      "provenance": [],
      "collapsed_sections": []
    },
    "kernelspec": {
      "name": "python3",
      "display_name": "Python 3"
    }
  },
  "cells": [
    {
      "cell_type": "code",
      "metadata": {
        "id": "OGQzEehaQiYy",
        "colab_type": "code",
        "colab": {
          "base_uri": "https://localhost:8080/",
          "height": 51
        },
        "outputId": "fe33eed4-01d9-481e-c788-7a87eea44d99"
      },
      "source": [
        "# sum of natural \n",
        "num=int(input(\"enter a number \"))\n",
        "sum=0\n",
        "while(num>0):\n",
        "  sum=sum+num\n",
        "  num=num-1   \n",
        "print(\"sum of  natural numbers is\",sum)"
      ],
      "execution_count": 2,
      "outputs": [
        {
          "output_type": "stream",
          "text": [
            "enter a number 7\n",
            "sum of  natural numbers is 28\n"
          ],
          "name": "stdout"
        }
      ]
    },
    {
      "cell_type": "code",
      "metadata": {
        "id": "4I1-DFQlRx38",
        "colab_type": "code",
        "colab": {
          "base_uri": "https://localhost:8080/",
          "height": 51
        },
        "outputId": "b1d7ce13-4bd4-4f8f-eaa3-4efd2f14fe84"
      },
      "source": [
        "# to calulate the sum of even and odd numbers\n",
        "num=(1,2,3,4,5,6,7,8,9)\n",
        "countodd =0\n",
        "counteven =0\n",
        "for x in num:\n",
        "  if x%2:       \n",
        "        counteven+=1\n",
        "  else:\n",
        "        countodd+=1\n",
        "print(\"number of even numbers\",counteven)\n",
        "print(\"number od odd numbers \",countodd)"
      ],
      "execution_count": 17,
      "outputs": [
        {
          "output_type": "stream",
          "text": [
            "number of even numbers 5\n",
            "number od odd numbers  4\n"
          ],
          "name": "stdout"
        }
      ]
    },
    {
      "cell_type": "code",
      "metadata": {
        "id": "hbtsMy7QS68g",
        "colab_type": "code",
        "colab": {
          "base_uri": "https://localhost:8080/",
          "height": 102
        },
        "outputId": "a1b4eb06-cf57-4d74-fbcf-da4e57670f32"
      },
      "source": [
        "# print numbers from 0 to 6 expect 3 and 6\n",
        "for x in range(6):\n",
        "  if (x==3 or x==6):  \n",
        "    continue\n",
        "  print(x)"
      ],
      "execution_count": 21,
      "outputs": [
        {
          "output_type": "stream",
          "text": [
            "0\n",
            "1\n",
            "2\n",
            "4\n",
            "5\n"
          ],
          "name": "stdout"
        }
      ]
    },
    {
      "cell_type": "code",
      "metadata": {
        "id": "7cHDU_D2UOO7",
        "colab_type": "code",
        "colab": {
          "base_uri": "https://localhost:8080/",
          "height": 85
        },
        "outputId": "612a5fed-3647-4b8c-a1a8-44a3182b77a9"
      },
      "source": [
        "# print square of all the numbers present in the list\n",
        "s=[2,4,7,6]\n",
        "for i in s:\n",
        "  print(i**2)"
      ],
      "execution_count": 23,
      "outputs": [
        {
          "output_type": "stream",
          "text": [
            "4\n",
            "16\n",
            "49\n",
            "36\n"
          ],
          "name": "stdout"
        }
      ]
    },
    {
      "cell_type": "code",
      "metadata": {
        "id": "iD5PsUCnU3t1",
        "colab_type": "code",
        "colab": {
          "base_uri": "https://localhost:8080/",
          "height": 51
        },
        "outputId": "a51a03fb-d4b9-4a17-e47f-eb5c145d9303"
      },
      "source": [
        "# calculate the sum and average of n integer number\n",
        "s=20\n",
        "sum=0\n",
        "average=0\n",
        "for num in range(0,s+1,1):\n",
        "  sum=sum+num\n",
        "  average=sum/20\n",
        "print(\"sum is\",sum)\n",
        "print(\"average is\",average)"
      ],
      "execution_count": 26,
      "outputs": [
        {
          "output_type": "stream",
          "text": [
            "sum is 210\n",
            "average is 10.5\n"
          ],
          "name": "stdout"
        }
      ]
    },
    {
      "cell_type": "code",
      "metadata": {
        "id": "4YXQQvXcVjxL",
        "colab_type": "code",
        "colab": {
          "base_uri": "https://localhost:8080/",
          "height": 68
        },
        "outputId": "f3c7e913-d2ff-4bdc-d776-3875b9d8b27f"
      },
      "source": [
        "#to reverse a given number\n",
        "num=int(input(\"enter a number\"))\n",
        "rev=0\n",
        "while num>0:\n",
        "  rem=num%10\n",
        "  rev=(rev*10)+rem\n",
        "  num=num//10\n",
        "  print(rev)"
      ],
      "execution_count": 28,
      "outputs": [
        {
          "output_type": "stream",
          "text": [
            "enter a number79\n",
            "9\n",
            "97\n"
          ],
          "name": "stdout"
        }
      ]
    },
    {
      "cell_type": "code",
      "metadata": {
        "id": "_uY_SyOnYESg",
        "colab_type": "code",
        "colab": {
          "base_uri": "https://localhost:8080/",
          "height": 51
        },
        "outputId": "d58f8a1d-5f31-4e8d-d49b-397714f1ebf9"
      },
      "source": [
        "# print odd number within a given range\n",
        "for i in range(1,5):\n",
        "  if(i%2!=0):\n",
        "    print(i)"
      ],
      "execution_count": 30,
      "outputs": [
        {
          "output_type": "stream",
          "text": [
            "1\n",
            "3\n"
          ],
          "name": "stdout"
        }
      ]
    },
    {
      "cell_type": "code",
      "metadata": {
        "id": "Cm_6tLpuYgUE",
        "colab_type": "code",
        "colab": {
          "base_uri": "https://localhost:8080/",
          "height": 34
        },
        "outputId": "1a7d3bca-86d8-4d30-dd2a-c662a23d0e47"
      },
      "source": [
        "#to count the number of digits in a number\n",
        "s=int(input(\"enter number\"))\n",
        "count=0\n",
        "while(s>0):\n",
        "  count=count+1\n",
        "  s=s/10\n",
        "  print(\"number of digits in the number\")"
      ],
      "execution_count": 35,
      "outputs": [
        {
          "output_type": "stream",
          "text": [
            "enter number0\n"
          ],
          "name": "stdout"
        }
      ]
    },
    {
      "cell_type": "code",
      "metadata": {
        "id": "pCeht2F_Y-yQ",
        "colab_type": "code",
        "colab": {
          "base_uri": "https://localhost:8080/",
          "height": 68
        },
        "outputId": "a245b3bf-c6b5-45f3-fad7-4c0a98427e93"
      },
      "source": [
        "# to check the number is palindrome\n",
        "num=int(input(\"enter a number\"))\n",
        "temp=num\n",
        "rev=0\n",
        "while(num>0):\n",
        "  dig=num%10\n",
        "  rev=rev*10+dig\n",
        "  num=num//10\n",
        "  if(temp==rev):\n",
        "    print(\"number is palindrome\")\n",
        "  else:\n",
        "    print(\"not a plaindrome\")"
      ],
      "execution_count": 36,
      "outputs": [
        {
          "output_type": "stream",
          "text": [
            "enter a number79\n",
            "not a plaindrome\n",
            "not a plaindrome\n"
          ],
          "name": "stdout"
        }
      ]
    },
    {
      "cell_type": "code",
      "metadata": {
        "id": "PlGx0hdAacTg",
        "colab_type": "code",
        "colab": {
          "base_uri": "https://localhost:8080/",
          "height": 255
        },
        "outputId": "f4354735-ced7-4a74-ea89-84efb889a80a"
      },
      "source": [
        "#print an identity matrix\n",
        "s=int(input(\"enter a number:\"))\n",
        "for i in range(0,s):\n",
        "  for j in range(0,s):\n",
        "    if(i==j):\n",
        "      print(\"1\",sep=\" \",end=\" \")\n",
        "    else:\n",
        "        print(\"0\",sep=\" \",end=\" \")\n",
        "        print()"
      ],
      "execution_count": 41,
      "outputs": [
        {
          "output_type": "stream",
          "text": [
            "enter a number:4\n",
            "1 0 \n",
            "0 \n",
            "0 \n",
            "0 \n",
            "1 0 \n",
            "0 \n",
            "0 \n",
            "0 \n",
            "1 0 \n",
            "0 \n",
            "0 \n",
            "0 \n",
            "1 "
          ],
          "name": "stdout"
        }
      ]
    },
    {
      "cell_type": "code",
      "metadata": {
        "id": "ffAaGP2gbNip",
        "colab_type": "code",
        "colab": {
          "base_uri": "https://localhost:8080/",
          "height": 51
        },
        "outputId": "4d8e93f5-f7bd-4710-9a35-00295f2af406"
      },
      "source": [
        "# check if a number is a perfect  number\n",
        "m=int(input(\"enter any number:\"))\n",
        "sum=0\n",
        "for i in range(1,m):\n",
        "  if(m%i==0):\n",
        "    sum=sum+i\n",
        "    if(sum==m):\n",
        "      print(\"number is a perfect number\")\n",
        "    else:\n",
        "        print(\"number is not a perfect number\")"
      ],
      "execution_count": 44,
      "outputs": [
        {
          "output_type": "stream",
          "text": [
            "enter any number:7\n",
            "number is not a perfect number\n"
          ],
          "name": "stdout"
        }
      ]
    },
    {
      "cell_type": "code",
      "metadata": {
        "id": "c9uHxPDpckB6",
        "colab_type": "code",
        "colab": {}
      },
      "source": [
        ""
      ],
      "execution_count": null,
      "outputs": []
    }
  ]
}