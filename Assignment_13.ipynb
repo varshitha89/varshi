{
  "nbformat": 4,
  "nbformat_minor": 0,
  "metadata": {
    "colab": {
      "name": "Assignment 13.ipynb",
      "provenance": [],
      "collapsed_sections": [],
      "authorship_tag": "ABX9TyMFeWfcrvvCTxEJtmEwhVtY",
      "include_colab_link": true
    },
    "kernelspec": {
      "name": "python3",
      "display_name": "Python 3"
    }
  },
  "cells": [
    {
      "cell_type": "markdown",
      "metadata": {
        "id": "view-in-github",
        "colab_type": "text"
      },
      "source": [
        "<a href=\"https://colab.research.google.com/github/varshitha89/varshi/blob/master/Assignment_13.ipynb\" target=\"_parent\"><img src=\"https://colab.research.google.com/assets/colab-badge.svg\" alt=\"Open In Colab\"/></a>"
      ]
    },
    {
      "cell_type": "code",
      "metadata": {
        "id": "j2BafFiGBfyI",
        "colab_type": "code",
        "colab": {
          "base_uri": "https://localhost:8080/",
          "height": 51
        },
        "outputId": "3e30887a-376e-4f8e-b673-ebfa9d5326f1"
      },
      "source": [
        "#to create over dictionary\n",
        "d={'name': 'varshi', 'age': 19}\n",
        "for t in d.items():  \n",
        "  print (t)"
      ],
      "execution_count": 3,
      "outputs": [
        {
          "output_type": "stream",
          "text": [
            "('name', 'varshi')\n",
            "('age', 19)\n"
          ],
          "name": "stdout"
        }
      ]
    },
    {
      "cell_type": "code",
      "metadata": {
        "id": "V-wgv9smCL2M",
        "colab_type": "code",
        "colab": {
          "base_uri": "https://localhost:8080/",
          "height": 34
        },
        "outputId": "15e2eb22-49ba-47a0-8dd3-98830bd50109"
      },
      "source": [
        "#to check weather a string starts with specific character\n",
        "str = \"hii varshi\"\n",
        "print(str.startswith(\"hii\"))"
      ],
      "execution_count": 5,
      "outputs": [
        {
          "output_type": "stream",
          "text": [
            "True\n"
          ],
          "name": "stdout"
        }
      ]
    },
    {
      "cell_type": "code",
      "metadata": {
        "id": "oiw_5ok4Clf4",
        "colab_type": "code",
        "colab": {
          "base_uri": "https://localhost:8080/",
          "height": 34
        },
        "outputId": "b3a7a305-2dc0-4366-9152-74e80bdf333f"
      },
      "source": [
        "#to find index of string\n",
        "str=\"varshi\"\n",
        "print(str.index('a'))"
      ],
      "execution_count": 7,
      "outputs": [
        {
          "output_type": "stream",
          "text": [
            "1\n"
          ],
          "name": "stdout"
        }
      ]
    },
    {
      "cell_type": "code",
      "metadata": {
        "id": "_kwWd-fGC-PU",
        "colab_type": "code",
        "colab": {
          "base_uri": "https://localhost:8080/",
          "height": 54
        },
        "outputId": "822c951c-ba35-4662-d75b-1f74bdcd9ba2"
      },
      "source": [
        "#to remove key\n",
        "names= {'a':\"mom\",'b':\"dad\",'c':\"varshivaishu\"}\n",
        "if 'a' in names:    \n",
        "   del names['a']\n",
        "print(names)"
      ],
      "execution_count": 9,
      "outputs": [
        {
          "output_type": "stream",
          "text": [
            "{'b': 'dad', 'c': 'varshivaishu'}\n"
          ],
          "name": "stdout"
        }
      ]
    }
  ]
}